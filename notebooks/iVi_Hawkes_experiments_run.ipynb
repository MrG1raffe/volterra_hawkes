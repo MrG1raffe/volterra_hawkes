{
 "cells": [
  {
   "cell_type": "code",
   "id": "77e3fe3f",
   "metadata": {
    "id": "77e3fe3f",
    "ExecuteTime": {
     "end_time": "2025-08-28T18:49:38.791864Z",
     "start_time": "2025-08-28T18:49:36.117199Z"
    }
   },
   "source": [
    "%load_ext autoreload\n",
    "%autoreload 2\n",
    "import sys\n",
    "if \"../\" not in sys.path:\n",
    "    sys.path.append(\"../\")\n",
    "import os\n",
    "import json\n",
    "\n",
    "import datetime\n",
    "import matplotlib\n",
    "\n",
    "from volterra_hawkes.kernel.kernels import *\n",
    "from volterra_hawkes.utility.visualisation import Experiment, plot_kernel\n",
    "\n",
    "from notebooks.numerical_tests import *\n",
    "\n",
    "plt.style.use('seaborn-v0_8-deep')\n",
    "plt.style.use('default')  # 'default' or any other light theme like 'seaborn-white'\n",
    "\n",
    "color_cycle = [\"#B56246\", \"#579F40\", \"#9A46B5\", \"#4699B5\", \"#B54662\", \"#D4A017\", \"#5b6c64\", \"#71074E\", \"#0033A0\"]\n",
    "plt.rcParams[\"figure.figsize\"]        = ((1 + np.sqrt(5)) / 2 * 5, 5)\n",
    "plt.rcParams[\"figure.autolayout\"]     = True\n",
    "plt.rcParams[\"patch.force_edgecolor\"] = False\n",
    "plt.rcParams[\"axes.grid\"]             = True\n",
    "plt.rcParams['axes.prop_cycle']       = matplotlib.cycler(color=color_cycle)"
   ],
   "outputs": [],
   "execution_count": 1
  },
  {
   "metadata": {
    "ExecuteTime": {
     "end_time": "2025-08-28T18:49:38.932695Z",
     "start_time": "2025-08-28T18:49:38.822468Z"
    }
   },
   "cell_type": "code",
   "source": [
    "lam_gamma_3 = 3\n",
    "alpha_gamma_3 = 2\n",
    "t0_gamma_3 = (alpha_gamma_3 - 1) / lam_gamma_3\n",
    "gamma_kernel_3 = GammaKernel(lam=lam_gamma_3, alpha=alpha_gamma_3, c=0.9 * lam_gamma_3 ** alpha_gamma_3)\n",
    "\n",
    "lam_gamma_2 = 10\n",
    "alpha_gamma_2 = 3\n",
    "t0_gamma_2 = (alpha_gamma_2 - 1) / lam_gamma_2\n",
    "gamma_kernel_2 = GammaKernel(lam=lam_gamma_2, alpha=alpha_gamma_2, c=0.95 * lam_gamma_2 ** alpha_gamma_2)\n",
    "\n",
    "experiments_list = [\n",
    "    Experiment(\n",
    "    T=1,\n",
    "    n_steps = 1000,\n",
    "    kernel = ExponentialKernel(c=4, lam=5),\n",
    "    mu=10\n",
    "    ),\n",
    "    Experiment(\n",
    "    T=1,\n",
    "    n_steps=100,\n",
    "    kernel=gamma_kernel_2,\n",
    "    mu=10,\n",
    "    decreasing_kernel=lambda t: gamma_kernel_2(t) * (t > t0_gamma_2) + gamma_kernel_2(t0_gamma_2) * (t <= t0_gamma_2),\n",
    "    ),\n",
    "    Experiment(\n",
    "    T=1,\n",
    "    n_steps = 1000,\n",
    "    kernel = FractionalKernel(H=0.1, c=0.8),\n",
    "    mu=10\n",
    "    ),\n",
    "    Experiment(\n",
    "    T=1,\n",
    "    n_steps=100,\n",
    "    kernel=gamma_kernel_3,\n",
    "    mu=5,\n",
    "    decreasing_kernel=lambda t: gamma_kernel_3(t) * (t > t0_gamma_3) + gamma_kernel_3(t0_gamma_3) * (t <= t0_gamma_3),\n",
    "    ),\n",
    "]"
   ],
   "id": "8993ae12c7152257",
   "outputs": [],
   "execution_count": 2
  },
  {
   "metadata": {
    "ExecuteTime": {
     "end_time": "2025-08-28T18:49:40.463359Z",
     "start_time": "2025-08-28T18:49:39.169144Z"
    }
   },
   "cell_type": "code",
   "source": [
    "scaling_factors = [10] # [5, 3, 7]\n",
    "\n",
    "experiments_list_gamma = []\n",
    "\n",
    "for scaling_factor in scaling_factors:\n",
    "    lam_gamma_sc = 3 * scaling_factor\n",
    "    alpha_gamma_sc = 2\n",
    "    experiment = Experiment(\n",
    "        T=1,\n",
    "        n_steps=1000,\n",
    "        kernel=GammaKernel(lam=lam_gamma_sc, alpha=alpha_gamma_sc, c=0.9 * lam_gamma_sc ** alpha_gamma_sc),\n",
    "        mu=5 * scaling_factor,\n",
    "    )\n",
    "    experiments_list_gamma.append(experiment)"
   ],
   "id": "d4b7b027d8ff0966",
   "outputs": [],
   "execution_count": 3
  },
  {
   "metadata": {
    "ExecuteTime": {
     "end_time": "2025-08-28T18:49:41.176626Z",
     "start_time": "2025-08-28T18:49:41.069348Z"
    }
   },
   "cell_type": "code",
   "source": [
    "scaling_factors = [1, 2] # [5, 1, 3, 7]\n",
    "\n",
    "experiments_list_testing_exp = []\n",
    "\n",
    "for scaling_factor in scaling_factors:\n",
    "    experiment = Experiment(\n",
    "    T=1,\n",
    "    n_steps = 1000,\n",
    "    kernel = ExponentialKernel(c=4 * scaling_factor, lam=5 * scaling_factor),\n",
    "    mu=10 * scaling_factor\n",
    "    )\n",
    "    experiments_list_testing_exp.append(experiment)"
   ],
   "id": "348467c5f6314c0a",
   "outputs": [],
   "execution_count": 4
  },
  {
   "metadata": {
    "ExecuteTime": {
     "end_time": "2025-08-28T18:49:41.325446Z",
     "start_time": "2025-08-28T18:49:41.215671Z"
    }
   },
   "cell_type": "code",
   "source": [
    "experiments_fract = [\n",
    "    Experiment(\n",
    "    T=1,\n",
    "    n_steps = 1000,\n",
    "    kernel = FractionalKernel(H=0.1, c=0.1 * scale**(0.1 + 0.5)),\n",
    "    mu=5 * scale\n",
    "    )\n",
    "    for scale in [5, 10, 20, 30]]"
   ],
   "id": "2777cb47f2cddb8f",
   "outputs": [],
   "execution_count": 5
  },
  {
   "metadata": {
    "ExecuteTime": {
     "end_time": "2025-08-28T19:00:30.103695Z",
     "start_time": "2025-08-28T18:49:43.348118Z"
    }
   },
   "cell_type": "code",
   "source": [
    "methods_non_ivi = [\"Population\", \"Ogata\"]\n",
    "methods_ivi = [\"iVi\"] # \"Res iVi\"\n",
    "n_paths_time_meas = 10**5\n",
    "batch_size_cf = 10**5\n",
    "n_batch_cf = 10\n",
    "n_steps_arr_cf = [20, 35, 50, 65, 80, 100, 200, 350, 500, 750, 1000]\n",
    "\n",
    "def save_results(path_experiment, experiment_results):\n",
    "    # saving the results\n",
    "    with open(path_experiment + 'results.json', 'w') as f:\n",
    "        json.dump(experiment_results, f)\n",
    "\n",
    "path = \"../experiments/\"\n",
    "\n",
    "for e in (experiments_list_gamma):\n",
    "    print(\"RUNNING EXPERIMENT\", str(e))\n",
    "    try:\n",
    "        name = str(e)[:str(e).index(\"decreasing\") - 2] + \")\"\n",
    "    except ValueError:\n",
    "        name = str(e)\n",
    "    name = name + \"_\" + datetime.datetime.now().strftime('%Y-%m-%d_%H_%M_%S')\n",
    "    path_experiment = path + name + \"/\"\n",
    "    try:\n",
    "        os.mkdir(path_experiment)\n",
    "    except FileExistsError as _:\n",
    "        pass\n",
    "\n",
    "    experiment_results = dict()\n",
    "    experiment_results[\"methods_ivi\"] = methods_ivi\n",
    "    experiment_results[\"methods_non_ivi\"] = methods_non_ivi\n",
    "    experiment_results[\"n_paths_time_meas\"] = n_paths_time_meas\n",
    "    experiment_results[\"n_steps_arr_cf\"] = n_steps_arr_cf\n",
    "    experiment_results[\"n_batch_cf\"] = n_batch_cf\n",
    "    experiment_results[\"batch_size_cf\"] = batch_size_cf\n",
    "\n",
    "    print(\"Pre-computing non-iVi samples...\")\n",
    "    try:\n",
    "        experiment_results[\"n_paths_non_ivi\"] = 10_000\n",
    "        samples_non_ivi = {}\n",
    "        for method in methods_non_ivi:\n",
    "            time_non_ivi = time.time()\n",
    "            samples_non_ivi[method] = get_N_U_sample(experiment=e, method=method,\n",
    "                                                     n_paths=experiment_results[\"n_paths_non_ivi\"],\n",
    "                                                     return_counters=True)\n",
    "            time_non_ivi = time.time() - time_non_ivi\n",
    "            experiment_results[\"time_\" + method] = time_non_ivi * (experiment_results[\"n_paths_time_meas\"] /\n",
    "                                                                   experiment_results[\"n_paths_non_ivi\"])\n",
    "    except Exception as e:\n",
    "        print(\"Exception occured during computing non-iVI samples: \", e)\n",
    "        continue\n",
    "\n",
    "    # print(\"RUNNING TEST 0, EXPERIMENT\", str(e))\n",
    "    # run_test0(e, path_experiment, experiment_results)\n",
    "    # save_results(path_experiment, experiment_results)\n",
    "    # print(\"RUNNING TEST 1, EXPERIMENT\", str(e))\n",
    "    # run_test1(e, path_experiment, experiment_results)\n",
    "    # save_results(path_experiment, experiment_results)\n",
    "    # print(\"RUNNING TEST 2, EXPERIMENT\", str(e))\n",
    "    # run_test2(e, path_experiment, experiment_results, samples_non_ivi)\n",
    "    # save_results(path_experiment, experiment_results)\n",
    "    # print(\"RUNNING TEST 3, EXPERIMENT\", str(e))\n",
    "    # run_test3(e, path_experiment, experiment_results, samples_non_ivi)\n",
    "    # save_results(path_experiment, experiment_results)\n",
    "    print(\"RUNNING TEST 4, EXPERIMENT\", str(e))\n",
    "    run_test4(e, path_experiment, experiment_results)\n",
    "    save_results(path_experiment, experiment_results)\n",
    "\n",
    "    plt.close('all')"
   ],
   "id": "2919f4d39cca9644",
   "outputs": [
    {
     "name": "stdout",
     "output_type": "stream",
     "text": [
      "RUNNING EXPERIMENT Experiment(T=1, n_steps=1000, kernel=GammaKernel(alpha=2, lam=30, c=810.0), mu=50, decreasing_kernel=<function Experiment.__post_init__.<locals>.decreasing_kernel at 0x000002042436E790>)\n",
      "Pre-computing non-iVi samples...\n",
      "RUNNING TEST 4, EXPERIMENT Experiment(T=1, n_steps=1000, kernel=GammaKernel(alpha=2, lam=30, c=810.0), mu=50, decreasing_kernel=<function Experiment.__post_init__.<locals>.decreasing_kernel at 0x000002042436E790>)\n",
      "Population\n",
      "Kolmogorov-Smirnov test p-value:  0.6898771332856012\n",
      "Ogata\n",
      "Kolmogorov-Smirnov test p-value:  0.5787178561624456\n",
      "iVi\n",
      "Kolmogorov-Smirnov test p-value:  0.3696158938238343\n",
      "Population\n",
      "Kolmogorov-Smirnov test p-value:  0.6898771332856012\n",
      "Ogata\n",
      "Kolmogorov-Smirnov test p-value:  0.5787178561624456\n",
      "Exception occured: operands could not be broadcast together with shapes (393,) (392,) \n",
      "Population\n",
      "Kolmogorov-Smirnov test p-value:  0.6898771332856012\n",
      "Ogata\n",
      "Kolmogorov-Smirnov test p-value:  0.5787178561624456\n",
      "iVi\n",
      "Kolmogorov-Smirnov test p-value:  0.6100907886703741\n",
      "Population\n",
      "Kolmogorov-Smirnov test p-value:  0.6898771332856012\n",
      "Ogata\n",
      "Kolmogorov-Smirnov test p-value:  0.5787178561624456\n",
      "iVi\n",
      "Kolmogorov-Smirnov test p-value:  0.3475883122547996\n"
     ]
    }
   ],
   "execution_count": 6
  },
  {
   "metadata": {},
   "cell_type": "code",
   "outputs": [],
   "execution_count": null,
   "source": "",
   "id": "3636cdd0d59d13f2"
  }
 ],
 "metadata": {
  "colab": {
   "provenance": []
  },
  "kernelspec": {
   "display_name": "volterra",
   "language": "python",
   "name": "volterra"
  },
  "language_info": {
   "codemirror_mode": {
    "name": "ipython",
    "version": 3
   },
   "file_extension": ".py",
   "mimetype": "text/x-python",
   "name": "python",
   "nbconvert_exporter": "python",
   "pygments_lexer": "ipython3",
   "version": "3.8.20"
  }
 },
 "nbformat": 4,
 "nbformat_minor": 5
}
