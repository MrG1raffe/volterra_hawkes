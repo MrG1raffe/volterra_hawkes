{
 "cells": [
  {
   "cell_type": "code",
   "id": "77e3fe3f",
   "metadata": {
    "id": "77e3fe3f",
    "ExecuteTime": {
     "end_time": "2025-09-18T16:01:54.108044Z",
     "start_time": "2025-09-18T16:01:52.639975Z"
    }
   },
   "source": [
    "%load_ext autoreload\n",
    "%autoreload 2\n",
    "import sys\n",
    "if \"../\" not in sys.path:\n",
    "    sys.path.append(\"../\")\n",
    "import os\n",
    "import json\n",
    "\n",
    "import datetime\n",
    "import matplotlib\n",
    "\n",
    "from volterra_hawkes.kernel.kernels import *\n",
    "from volterra_hawkes.utility.visualisation import Experiment, plot_kernel\n",
    "\n",
    "from notebooks.numerical_tests import *\n",
    "\n",
    "plt.style.use('seaborn-v0_8-deep')\n",
    "plt.style.use('default')  # 'default' or any other light theme like 'seaborn-white'\n",
    "\n",
    "color_cycle = [\"#B56246\", \"#579F40\", \"#9A46B5\", \"#4699B5\", \"#B54662\", \"#D4A017\", \"#5b6c64\", \"#71074E\", \"#0033A0\"]\n",
    "plt.rcParams[\"figure.figsize\"]        = ((1 + np.sqrt(5)) / 2 * 5, 5)\n",
    "plt.rcParams[\"figure.autolayout\"]     = True\n",
    "plt.rcParams[\"patch.force_edgecolor\"] = False\n",
    "plt.rcParams[\"axes.grid\"]             = True\n",
    "plt.rcParams['axes.prop_cycle']       = matplotlib.cycler(color=color_cycle)"
   ],
   "outputs": [
    {
     "name": "stdout",
     "output_type": "stream",
     "text": [
      "The autoreload extension is already loaded. To reload it, use:\n",
      "  %reload_ext autoreload\n"
     ]
    }
   ],
   "execution_count": 8
  },
  {
   "metadata": {
    "ExecuteTime": {
     "end_time": "2025-09-18T11:28:32.877809Z",
     "start_time": "2025-09-18T11:28:32.773482Z"
    }
   },
   "cell_type": "code",
   "source": [
    "scaling_factors = [1] # [5, 3, 7]\n",
    "experiments_list_gamma = []\n",
    "\n",
    "for scaling_factor in scaling_factors:\n",
    "    lam_gamma_sc = 3 * scaling_factor\n",
    "    alpha_gamma_sc = 2\n",
    "    experiment = Experiment(\n",
    "        T=1,\n",
    "        n_steps=1000,\n",
    "        kernel=GammaKernel(lam=lam_gamma_sc, alpha=alpha_gamma_sc, c=0.9 * lam_gamma_sc ** alpha_gamma_sc),\n",
    "        mu=5 * scaling_factor,\n",
    "    )\n",
    "    experiments_list_gamma.append(experiment)"
   ],
   "id": "d4b7b027d8ff0966",
   "outputs": [],
   "execution_count": 4
  },
  {
   "metadata": {
    "ExecuteTime": {
     "end_time": "2025-09-18T11:28:35.393654Z",
     "start_time": "2025-09-18T11:28:35.293870Z"
    }
   },
   "cell_type": "code",
   "source": [
    "scaling_factors = [2]\n",
    "experiments_list_testing_exp = []\n",
    "\n",
    "for scaling_factor in scaling_factors:\n",
    "    experiment = Experiment(\n",
    "    T=1,\n",
    "    n_steps = 1000,\n",
    "    kernel = ExponentialKernel(c=4 * scaling_factor, lam=5 * scaling_factor),\n",
    "    mu=10 * scaling_factor\n",
    "    )\n",
    "    experiments_list_testing_exp.append(experiment)"
   ],
   "id": "348467c5f6314c0a",
   "outputs": [],
   "execution_count": 5
  },
  {
   "metadata": {
    "ExecuteTime": {
     "end_time": "2025-09-18T11:28:36.990030Z",
     "start_time": "2025-09-18T11:28:36.894093Z"
    }
   },
   "cell_type": "code",
   "source": [
    "experiments_fract = [\n",
    "    Experiment(\n",
    "    T=1,\n",
    "    n_steps = 1000,\n",
    "    kernel = FractionalKernel(H=0.1, c=0.1 * scale**(0.1 + 0.5)),\n",
    "    mu=5 * scale\n",
    "    )\n",
    "    for scale in [30]\n",
    "]"
   ],
   "id": "2777cb47f2cddb8f",
   "outputs": [],
   "execution_count": 6
  },
  {
   "metadata": {
    "ExecuteTime": {
     "end_time": "2025-09-18T11:48:22.773343Z",
     "start_time": "2025-09-18T11:29:12.616165Z"
    }
   },
   "cell_type": "code",
   "source": [
    "methods_non_ivi = [\"Population\", \"Ogata\"]\n",
    "methods_ivi = [\"iVi\"] # \"Res iVi\"\n",
    "n_paths_time_meas = 10**5\n",
    "batch_size_cf = 10**5\n",
    "n_batch_cf = 10\n",
    "n_steps_arr_cf = [20, 35, 50, 65, 80, 100, 200, 350, 500, 750, 1000]\n",
    "\n",
    "def save_results(path_experiment, experiment_results):\n",
    "    # saving the results\n",
    "    with open(path_experiment + 'results.json', 'w') as f:\n",
    "        json.dump(experiment_results, f)\n",
    "\n",
    "path = \"../experiments/\"\n",
    "\n",
    "for e in (experiments_list_gamma):\n",
    "    print(\"RUNNING EXPERIMENT\", str(e))\n",
    "    try:\n",
    "        name = str(e)[:str(e).index(\"decreasing\") - 2] + \")\"\n",
    "    except ValueError:\n",
    "        name = str(e)\n",
    "    name = name + \"_\" + datetime.datetime.now().strftime('%Y-%m-%d_%H_%M_%S')\n",
    "    path_experiment = path + name + \"/\"\n",
    "    try:\n",
    "        os.mkdir(path_experiment)\n",
    "    except FileExistsError as _:\n",
    "        pass\n",
    "\n",
    "    experiment_results = dict()\n",
    "    experiment_results[\"methods_ivi\"] = methods_ivi\n",
    "    experiment_results[\"methods_non_ivi\"] = methods_non_ivi\n",
    "    experiment_results[\"n_paths_time_meas\"] = n_paths_time_meas\n",
    "    experiment_results[\"n_steps_arr_cf\"] = n_steps_arr_cf\n",
    "    experiment_results[\"n_batch_cf\"] = n_batch_cf\n",
    "    experiment_results[\"batch_size_cf\"] = batch_size_cf\n",
    "\n",
    "    print(\"Pre-computing non-iVi samples...\")\n",
    "    try:\n",
    "        experiment_results[\"n_paths_non_ivi\"] = 10_000\n",
    "        samples_non_ivi = {}\n",
    "        for method in methods_non_ivi:\n",
    "            time_non_ivi = time.time()\n",
    "            samples_non_ivi[method] = get_N_U_sample(experiment=e, method=method,\n",
    "                                                     n_paths=experiment_results[\"n_paths_non_ivi\"],\n",
    "                                                     return_counters=True)\n",
    "            time_non_ivi = time.time() - time_non_ivi\n",
    "            experiment_results[\"time_\" + method] = time_non_ivi * (experiment_results[\"n_paths_time_meas\"] /\n",
    "                                                                   experiment_results[\"n_paths_non_ivi\"])\n",
    "    except Exception as e:\n",
    "        print(\"Exception occured during computing non-iVI samples: \", e)\n",
    "        continue\n",
    "\n",
    "    print(\"RUNNING TEST 0, EXPERIMENT\", str(e))\n",
    "    run_test0(e, path_experiment, experiment_results)\n",
    "    save_results(path_experiment, experiment_results)\n",
    "    print(\"RUNNING TEST 1, EXPERIMENT\", str(e))\n",
    "    run_test1(e, path_experiment, experiment_results)\n",
    "    save_results(path_experiment, experiment_results)\n",
    "    print(\"RUNNING TEST 2, EXPERIMENT\", str(e))\n",
    "    run_test2(e, path_experiment, experiment_results, samples_non_ivi)\n",
    "    save_results(path_experiment, experiment_results)\n",
    "    print(\"RUNNING TEST 3, EXPERIMENT\", str(e))\n",
    "    run_test3(e, path_experiment, experiment_results, samples_non_ivi)\n",
    "    save_results(path_experiment, experiment_results)\n",
    "    print(\"RUNNING TEST 4, EXPERIMENT\", str(e))\n",
    "    run_test4(e, path_experiment, experiment_results)\n",
    "    save_results(path_experiment, experiment_results)\n",
    "\n",
    "    plt.close('all')"
   ],
   "id": "2919f4d39cca9644",
   "outputs": [
    {
     "name": "stdout",
     "output_type": "stream",
     "text": [
      "RUNNING EXPERIMENT Experiment(T=1, n_steps=1000, kernel=GammaKernel(alpha=2, lam=3, c=8.1), mu=5, decreasing_kernel=<function Experiment.__post_init__.<locals>.decreasing_kernel at 0x000001622C93DB80>)\n",
      "Pre-computing non-iVi samples...\n",
      "RUNNING TEST 0, EXPERIMENT Experiment(T=1, n_steps=1000, kernel=GammaKernel(alpha=2, lam=3, c=8.1), mu=5, decreasing_kernel=<function Experiment.__post_init__.<locals>.decreasing_kernel at 0x000001622C93DB80>)\n",
      "RUNNING TEST 1, EXPERIMENT Experiment(T=1, n_steps=1000, kernel=GammaKernel(alpha=2, lam=3, c=8.1), mu=5, decreasing_kernel=<function Experiment.__post_init__.<locals>.decreasing_kernel at 0x000001622C93DB80>)\n",
      "Mean: 7.37231604438123\n",
      "RUNNING TEST 2, EXPERIMENT Experiment(T=1, n_steps=1000, kernel=GammaKernel(alpha=2, lam=3, c=8.1), mu=5, decreasing_kernel=<function Experiment.__post_init__.<locals>.decreasing_kernel at 0x000001622C93DB80>)\n",
      "Computing iVi samples...\n",
      "n_steps = 10\n",
      "Process: U\n",
      "p-value Population-Ogata: 0.11890214798175557\n",
      "p-value Population-iVi: 1.5282513643318188e-42\n",
      "Process: N\n",
      "p-value Population-Ogata: 0.031162582913927636\n",
      "p-value Population-iVi: 3.084305112309125e-07\n",
      "n_steps = 50\n",
      "Process: U\n",
      "p-value Population-Ogata: 0.11890214798175557\n",
      "p-value Population-iVi: 0.014473851205715274\n",
      "Process: N\n",
      "p-value Population-Ogata: 0.031162582913927636\n",
      "p-value Population-iVi: 9.187228212850023e-08\n",
      "n_steps = 100\n",
      "Process: U\n",
      "p-value Population-Ogata: 0.11890214798175557\n",
      "p-value Population-iVi: 0.21692483428445863\n",
      "Process: N\n",
      "p-value Population-Ogata: 0.031162582913927636\n",
      "p-value Population-iVi: 2.773254541722611e-13\n",
      "n_steps = 1000\n",
      "Process: U\n",
      "p-value Population-Ogata: 0.11890214798175557\n",
      "p-value Population-iVi: 0.14966522632015317\n",
      "Process: N\n",
      "p-value Population-Ogata: 0.031162582913927636\n",
      "p-value Population-iVi: 1.2149611212456801e-14\n",
      "RUNNING TEST 3, EXPERIMENT Experiment(T=1, n_steps=1000, kernel=GammaKernel(alpha=2, lam=3, c=8.1), mu=5, decreasing_kernel=<function Experiment.__post_init__.<locals>.decreasing_kernel at 0x000001622C93DB80>)\n",
      "Computing iVi samples...\n",
      "iVi 20\n",
      "iVi 35\n",
      "iVi 50\n",
      "iVi 65\n",
      "iVi 80\n",
      "iVi 100\n",
      "iVi 200\n",
      "iVi 350\n",
      "iVi 500\n",
      "iVi 750\n",
      "iVi 1000\n",
      "RUNNING TEST 4, EXPERIMENT Experiment(T=1, n_steps=1000, kernel=GammaKernel(alpha=2, lam=3, c=8.1), mu=5, decreasing_kernel=<function Experiment.__post_init__.<locals>.decreasing_kernel at 0x000001622C93DB80>)\n",
      "Population\n",
      "Kolmogorov-Smirnov test p-value:  0.749482062940083\n",
      "Ogata\n",
      "Kolmogorov-Smirnov test p-value:  0.9674960952046471\n",
      "iVi\n",
      "Kolmogorov-Smirnov test p-value:  0.2504876394938792\n",
      "Population\n",
      "Kolmogorov-Smirnov test p-value:  0.749482062940083\n",
      "Ogata\n",
      "Kolmogorov-Smirnov test p-value:  0.9674960952046471\n",
      "iVi\n",
      "Kolmogorov-Smirnov test p-value:  0.44763203214397873\n",
      "Population\n",
      "Kolmogorov-Smirnov test p-value:  0.749482062940083\n",
      "Ogata\n",
      "Kolmogorov-Smirnov test p-value:  0.9674960952046471\n",
      "iVi\n",
      "Kolmogorov-Smirnov test p-value:  0.5924117858970321\n",
      "Population\n",
      "Kolmogorov-Smirnov test p-value:  0.749482062940083\n",
      "Ogata\n",
      "Kolmogorov-Smirnov test p-value:  0.9674960952046471\n",
      "iVi\n",
      "Kolmogorov-Smirnov test p-value:  0.9916819016878228\n"
     ]
    }
   ],
   "execution_count": 7
  },
  {
   "metadata": {},
   "cell_type": "code",
   "outputs": [],
   "execution_count": null,
   "source": "",
   "id": "3636cdd0d59d13f2"
  }
 ],
 "metadata": {
  "colab": {
   "provenance": []
  },
  "kernelspec": {
   "display_name": "volterra",
   "language": "python",
   "name": "volterra"
  },
  "language_info": {
   "codemirror_mode": {
    "name": "ipython",
    "version": 3
   },
   "file_extension": ".py",
   "mimetype": "text/x-python",
   "name": "python",
   "nbconvert_exporter": "python",
   "pygments_lexer": "ipython3",
   "version": "3.8.20"
  }
 },
 "nbformat": 4,
 "nbformat_minor": 5
}
